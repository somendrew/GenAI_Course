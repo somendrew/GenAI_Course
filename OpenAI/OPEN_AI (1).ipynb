{
  "nbformat": 4,
  "nbformat_minor": 0,
  "metadata": {
    "colab": {
      "provenance": []
    },
    "kernelspec": {
      "name": "python3",
      "display_name": "Python 3"
    },
    "language_info": {
      "name": "python"
    }
  },
  "cells": [
    {
      "cell_type": "markdown",
      "source": [
        "# TEXT GENERATION"
      ],
      "metadata": {
        "id": "uUiv-dLXkSn_"
      }
    },
    {
      "cell_type": "code",
      "source": [
        "#API key setup\n",
        "import os\n",
        "from google.colab import userdata\n",
        "\n",
        "os.environ['OPENAI_API_KEY'] = userdata.get('api_key')"
      ],
      "metadata": {
        "id": "yXpCOJ5Rxdw5"
      },
      "execution_count": 23,
      "outputs": []
    },
    {
      "cell_type": "markdown",
      "source": [
        "## Responses\n"
      ],
      "metadata": {
        "id": "aAjR7SD-l-t6"
      }
    },
    {
      "cell_type": "markdown",
      "source": [
        "## Text Input\n",
        "\n"
      ],
      "metadata": {
        "id": "zbPUIzJAyKG8"
      }
    },
    {
      "cell_type": "code",
      "execution_count": 3,
      "metadata": {
        "id": "5NW84CurkKja",
        "colab": {
          "base_uri": "https://localhost:8080/"
        },
        "outputId": "eeb7a3e8-4ef8-4495-fc0e-9bb01c28ae76"
      },
      "outputs": [
        {
          "output_type": "stream",
          "name": "stdout",
          "text": [
            "Response(id='resp_689c2095fea4819e9a0af446e499e1d301b40bb761c06cdd', created_at=1755062422.0, error=None, incomplete_details=None, instructions=None, metadata={}, model='gpt-4o-mini-2024-07-18', object='response', output=[ResponseOutputMessage(id='msg_689c20965704819e8f0b868a2a6c78b501b40bb761c06cdd', content=[ResponseOutputText(annotations=[], text='**The Wish of Luna the Unicorn**\\n\\nOnce upon a time, in a shimmering forest where the stars danced in the sky, there lived a gentle unicorn named Luna. Luna had a coat that sparkled like moonlight and a horn that glimmered with all the colors of the rainbow. Each night, she would trot through the forest, spreading joy and magic wherever she went.\\n\\nOne evening, as Luna grazed by a gentle brook, she heard a soft whimpering. Curious, she followed the sound and found a tiny owl named Oliver perched on a branch, his big eyes brimming with tears.\\n\\n“What’s wrong, dear friend?” Luna asked, nuzzling him with her nose.\\n\\n“I’ve lost my way home and all the other animals are asleep,” Oliver cried. “I just want to see my family again.”\\n\\nLuna’s heart swelled with sympathy. “Don’t worry, Oliver! I can help you find your way home,” she said, her horn glowing brightly. \\n\\nWith a flick of her tail, she summoned a trail of starlight that sparkled in the air. “Follow this path, and it will lead you to your family,” she encouraged.\\n\\nWith hope shining in his eyes, Oliver followed the glowing trail. As they moved through the forest, Luna sang a soft, soothing song that filled the air with warmth and light. The trees swayed gently, and even the moon seemed to shine brighter, guiding their way.\\n\\nFinally, they reached a cozy little nest high in a tree, where other owls were quietly huddled together. Oliver’s heart soared with joy. “Thank you, Luna!” he chirped, flapping his wings with excitement. \\n\\nLuna smiled, knowing she had made a difference. “Remember, whenever you feel lost, just look for the starlight,” she whispered, and with that, she turned to head back into the forest.\\n\\nAs Luna walked home, she felt a warm glow in her heart. She realized that true magic lay not only in her horn but in her willingness to help others.\\n\\nAnd so, under the watchful gaze of the sparkling stars, Luna continued her nightly adventures, spreading light and kindness throughout the enchanted forest.\\n\\nAnd from that night on, every time the stars twinkled brightly in the sky, Oliver and his family would look up and remember their dear friend, the unicorn who made wishes come true.\\n\\n**The End** \\n\\nSweet dreams! 🌟🦄✨', type='output_text', logprobs=[])], role='assistant', status='completed', type='message')], parallel_tool_calls=True, temperature=1.0, tool_choice='auto', tools=[], top_p=1.0, background=False, max_output_tokens=None, max_tool_calls=None, previous_response_id=None, prompt=None, prompt_cache_key=None, reasoning=Reasoning(effort=None, generate_summary=None, summary=None), safety_identifier=None, service_tier='default', status='completed', text=ResponseTextConfig(format=ResponseFormatText(type='text'), verbosity='medium'), top_logprobs=0, truncation='disabled', usage=ResponseUsage(input_tokens=16, input_tokens_details=InputTokensDetails(cached_tokens=0), output_tokens=502, output_tokens_details=OutputTokensDetails(reasoning_tokens=0), total_tokens=518), user=None, store=True)\n"
          ]
        }
      ],
      "source": [
        "from openai import OpenAI\n",
        "client = OpenAI()\n",
        "\n",
        "response = client.responses.create(\n",
        "    model = 'gpt-4o-mini',\n",
        "    input = 'tell me a short bedtime story abput unicorn'\n",
        ")\n",
        "\n",
        "print(response)"
      ]
    },
    {
      "cell_type": "code",
      "source": [
        "story_text = response.output[0].content[0].text\n",
        "story_text"
      ],
      "metadata": {
        "colab": {
          "base_uri": "https://localhost:8080/",
          "height": 133
        },
        "id": "NrQMCt7d3_WN",
        "outputId": "0e0c34dc-2f93-4028-d400-02d800348b33"
      },
      "execution_count": 7,
      "outputs": [
        {
          "output_type": "execute_result",
          "data": {
            "text/plain": [
              "'**The Wish of Luna the Unicorn**\\n\\nOnce upon a time, in a shimmering forest where the stars danced in the sky, there lived a gentle unicorn named Luna. Luna had a coat that sparkled like moonlight and a horn that glimmered with all the colors of the rainbow. Each night, she would trot through the forest, spreading joy and magic wherever she went.\\n\\nOne evening, as Luna grazed by a gentle brook, she heard a soft whimpering. Curious, she followed the sound and found a tiny owl named Oliver perched on a branch, his big eyes brimming with tears.\\n\\n“What’s wrong, dear friend?” Luna asked, nuzzling him with her nose.\\n\\n“I’ve lost my way home and all the other animals are asleep,” Oliver cried. “I just want to see my family again.”\\n\\nLuna’s heart swelled with sympathy. “Don’t worry, Oliver! I can help you find your way home,” she said, her horn glowing brightly. \\n\\nWith a flick of her tail, she summoned a trail of starlight that sparkled in the air. “Follow this path, and it will lead you to your family,” she encouraged.\\n\\nWith hope shining in his eyes, Oliver followed the glowing trail. As they moved through the forest, Luna sang a soft, soothing song that filled the air with warmth and light. The trees swayed gently, and even the moon seemed to shine brighter, guiding their way.\\n\\nFinally, they reached a cozy little nest high in a tree, where other owls were quietly huddled together. Oliver’s heart soared with joy. “Thank you, Luna!” he chirped, flapping his wings with excitement. \\n\\nLuna smiled, knowing she had made a difference. “Remember, whenever you feel lost, just look for the starlight,” she whispered, and with that, she turned to head back into the forest.\\n\\nAs Luna walked home, she felt a warm glow in her heart. She realized that true magic lay not only in her horn but in her willingness to help others.\\n\\nAnd so, under the watchful gaze of the sparkling stars, Luna continued her nightly adventures, spreading light and kindness throughout the enchanted forest.\\n\\nAnd from that night on, every time the stars twinkled brightly in the sky, Oliver and his family would look up and remember their dear friend, the unicorn who made wishes come true.\\n\\n**The End** \\n\\nSweet dreams! 🌟🦄✨'"
            ],
            "application/vnd.google.colaboratory.intrinsic+json": {
              "type": "string"
            }
          },
          "metadata": {},
          "execution_count": 7
        }
      ]
    },
    {
      "cell_type": "markdown",
      "source": [
        "## Image Input / Input File"
      ],
      "metadata": {
        "id": "TqtKTN2nyM8b"
      }
    },
    {
      "cell_type": "code",
      "source": [
        "from openai import OpenAI\n",
        "\n",
        "client = OpenAI()\n",
        "\n",
        "response = client.responses.create(\n",
        "    model='gpt-4o-mini',\n",
        "    input = [\n",
        "        {\n",
        "            'role' : 'user',\n",
        "            'content' : [\n",
        "                {\n",
        "                    \"type\": \"input_text\",\n",
        "                    \"text\" : \"what is in this image?\",\n",
        "                },\n",
        "                {\n",
        "                    \"type\":\"input_image\",\n",
        "                    \"image_url\":\"https://upload.wikimedia.org/wikipedia/commons/thumb/d/dd/Gfp-wisconsin-madison-the-nature-boardwalk.jpg/2560px-Gfp-wisconsin-madison-the-nature-boardwalk.jpg\"\n",
        "                }\n",
        "            ]\n",
        "        }\n",
        "    ],\n",
        "    timeout = 20\n",
        ")\n",
        "\n",
        "print(response)"
      ],
      "metadata": {
        "id": "iHeTO011mi_u",
        "colab": {
          "base_uri": "https://localhost:8080/"
        },
        "outputId": "62349e65-8205-4d98-805e-cd4f5a3f9d6b"
      },
      "execution_count": 24,
      "outputs": [
        {
          "output_type": "stream",
          "name": "stdout",
          "text": [
            "Response(id='resp_689c260a53b8819485b2d1a34b2423e005058d6194429405', created_at=1755063818.0, error=None, incomplete_details=None, instructions=None, metadata={}, model='gpt-4o-mini-2024-07-18', object='response', output=[ResponseOutputMessage(id='msg_689c260d7f6081948b140d4d9b85c6c805058d6194429405', content=[ResponseOutputText(annotations=[], text='The image depicts a scenic outdoor landscape featuring a wooden pathway or boardwalk that runs through a lush green marsh or field. Surrounding the pathway, there are tall grasses and various shrubs, along with a clear blue sky dotted with clouds. The scene conveys a peaceful, natural environment, ideal for walking or enjoying nature.', type='output_text', logprobs=[])], role='assistant', status='completed', type='message')], parallel_tool_calls=True, temperature=1.0, tool_choice='auto', tools=[], top_p=1.0, background=False, max_output_tokens=None, max_tool_calls=None, previous_response_id=None, prompt=None, prompt_cache_key=None, reasoning=Reasoning(effort=None, generate_summary=None, summary=None), safety_identifier=None, service_tier='default', status='completed', text=ResponseTextConfig(format=ResponseFormatText(type='text'), verbosity='medium'), top_logprobs=0, truncation='disabled', usage=ResponseUsage(input_tokens=36848, input_tokens_details=InputTokensDetails(cached_tokens=0), output_tokens=64, output_tokens_details=OutputTokensDetails(reasoning_tokens=0), total_tokens=36912), user=None, store=True)\n"
          ]
        }
      ]
    },
    {
      "cell_type": "code",
      "source": [
        "response.output[0].content[0].text"
      ],
      "metadata": {
        "colab": {
          "base_uri": "https://localhost:8080/",
          "height": 56
        },
        "id": "Py71wOkz4zTv",
        "outputId": "f73bf2c3-2fff-4cca-87e3-d277bd5ce5e9"
      },
      "execution_count": 25,
      "outputs": [
        {
          "output_type": "execute_result",
          "data": {
            "text/plain": [
              "'The image depicts a scenic outdoor landscape featuring a wooden pathway or boardwalk that runs through a lush green marsh or field. Surrounding the pathway, there are tall grasses and various shrubs, along with a clear blue sky dotted with clouds. The scene conveys a peaceful, natural environment, ideal for walking or enjoying nature.'"
            ],
            "application/vnd.google.colaboratory.intrinsic+json": {
              "type": "string"
            }
          },
          "metadata": {},
          "execution_count": 25
        }
      ]
    },
    {
      "cell_type": "markdown",
      "source": [
        "###  Web Search"
      ],
      "metadata": {
        "id": "jv-QdCYz4I0c"
      }
    },
    {
      "cell_type": "code",
      "source": [
        "# from openai import OpenAI\n",
        "\n",
        "# client = OpenAI()\n",
        "\n",
        "response = client.responses.create(\n",
        "    model = 'gpt-4o-mini',\n",
        "    tools =[{\"type\":\"web_search_preview\"}],\n",
        "    input = \"what is the positive news from today?\",\n",
        "    timeout = 50\n",
        ")\n",
        "\n",
        "print(response)"
      ],
      "metadata": {
        "id": "q6RoEnpE4IA6",
        "colab": {
          "base_uri": "https://localhost:8080/"
        },
        "outputId": "bdcbe2f6-8d36-4edd-8fd4-6e9b3ea24760"
      },
      "execution_count": 36,
      "outputs": [
        {
          "output_type": "stream",
          "name": "stdout",
          "text": [
            "Response(id='resp_689c287296008193bdba4fbbc149b4dc0dac7df15b71ba46', created_at=1755064434.0, error=None, incomplete_details=None, instructions=None, metadata={}, model='gpt-4o-mini-2024-07-18', object='response', output=[ResponseFunctionWebSearch(id='ws_689c287343f88193ad1c95656f9f82dc0dac7df15b71ba46', action=ActionSearch(query='positive news today', type='search'), status='completed', type='web_search_call'), ResponseOutputMessage(id='msg_689c2874ab148193b2d42e112a2447810dac7df15b71ba46', content=[ResponseOutputText(annotations=[AnnotationURLCitation(end_index=373, start_index=288, title='2025 in science', type='url_citation', url='https://en.wikipedia.org/wiki/2025_in_science?utm_source=openai'), AnnotationURLCitation(end_index=714, start_index=629, title='2025 in science', type='url_citation', url='https://en.wikipedia.org/wiki/2025_in_science?utm_source=openai'), AnnotationURLCitation(end_index=1042, start_index=957, title='2025 in science', type='url_citation', url='https://en.wikipedia.org/wiki/2025_in_science?utm_source=openai'), AnnotationURLCitation(end_index=1429, start_index=1355, title='2025', type='url_citation', url='https://en.wikipedia.org/wiki/2025?utm_source=openai'), AnnotationURLCitation(end_index=1815, start_index=1720, title='Good News (2025 film)', type='url_citation', url='https://en.wikipedia.org/wiki/Good_News_%282025_film%29?utm_source=openai'), AnnotationURLCitation(end_index=2239, start_index=2152, title='SRQ Daily Aug 13, 2025 - Wednesday Philanthropy Edition', type='url_citation', url='https://www.srqmagazine.com/srq-daily/2025-08-13?utm_source=openai')], text='Here are some positive developments from recent days:\\n\\n**Scientific Advancements**\\n\\n- **OpenAI Releases GPT-5**: On August 7, OpenAI unveiled GPT-5, an advanced AI model boasting \"PhD-level intelligence.\" This release signifies a substantial leap in artificial intelligence capabilities. ([en.wikipedia.org](https://en.wikipedia.org/wiki/2025_in_science?utm_source=openai))\\n\\n- **Discovery of New Exoplanet Atmosphere**: On August 7, NASA\\'s Webb Space Telescope provided new evidence for a gas giant orbiting Alpha Centauri A, our closest solar twin. This discovery enhances our understanding of planetary systems beyond our own. ([en.wikipedia.org](https://en.wikipedia.org/wiki/2025_in_science?utm_source=openai))\\n\\n- **Breakthrough in PFAS Degradation**: On August 8, researchers at the University of Adelaide reported a method using sunlight to break down PFAS chemicals into harmless substances, offering a promising solution to environmental pollution. ([en.wikipedia.org](https://en.wikipedia.org/wiki/2025_in_science?utm_source=openai))\\n\\n**International Peace Efforts**\\n\\n- **Armenia and Azerbaijan Sign Peace Deal**: On August 8, Armenia and Azerbaijan signed a peace agreement mediated by the United States, ending 37 years of hostilities over the Nagorno-Karabakh region. This historic accord paves the way for regional stability and cooperation. ([en.wikipedia.org](https://en.wikipedia.org/wiki/2025?utm_source=openai))\\n\\n**Cultural Milestones**\\n\\n- **Upcoming Film \\'Good News\\'**: The South Korean film \\'Good News,\\' starring Sul Kyung-gu and Hong Kyung, is set to premiere at the 2025 Toronto International Film Festival in September. Directed by Byun Sung-hyun, the film has generated significant anticipation. ([en.wikipedia.org](https://en.wikipedia.org/wiki/Good_News_%282025_film%29?utm_source=openai))\\n\\n**Community Support**\\n\\n- **Grant to All Faiths Food Bank**: United Way Suncoast awarded a three-year grant of $270,000 to All Faiths Food Bank to support their Benefits Assistance program. This initiative aims to help local residents access essential government resources, addressing the needs of families facing financial challenges. ([srqmagazine.com](https://www.srqmagazine.com/srq-daily/2025-08-13?utm_source=openai))\\n\\nThese events highlight significant progress in science, international relations, culture, and community support, contributing to a more positive outlook in recent times. ', type='output_text', logprobs=[])], role='assistant', status='completed', type='message')], parallel_tool_calls=True, temperature=1.0, tool_choice='auto', tools=[WebSearchTool(type='web_search_preview', search_context_size='medium', user_location=UserLocation(type='approximate', city=None, country='US', region=None, timezone=None))], top_p=1.0, background=False, max_output_tokens=None, max_tool_calls=None, previous_response_id=None, prompt=None, prompt_cache_key=None, reasoning=Reasoning(effort=None, generate_summary=None, summary=None), safety_identifier=None, service_tier='default', status='completed', text=ResponseTextConfig(format=ResponseFormatText(type='text'), verbosity='medium'), top_logprobs=0, truncation='disabled', usage=ResponseUsage(input_tokens=309, input_tokens_details=InputTokensDetails(cached_tokens=0), output_tokens=542, output_tokens_details=OutputTokensDetails(reasoning_tokens=0), total_tokens=851), user=None, store=True)\n"
          ]
        }
      ]
    },
    {
      "cell_type": "markdown",
      "source": [
        "### File Search"
      ],
      "metadata": {
        "id": "y9d2YmQ57MUY"
      }
    },
    {
      "cell_type": "code",
      "source": [
        "# from openai import OpenAI\n",
        "\n",
        "# client = OpenAI()\n",
        "# response = client.responses.create(\n",
        "#     model = 'gpt-4o-mini',\n",
        "#     tools = [{\n",
        "#         'type':'file_search',\n",
        "#         'vector_store_ids': [\"vs_1234567890\"],\n",
        "#         'max_num_results': 20,\n",
        "#     }],\n",
        "#     input = \"What are the attributes of an ancient brown dragon?\",\n",
        "#     timeout = 20\n",
        "\n",
        "# )\n",
        "\n",
        "# print(response)"
      ],
      "metadata": {
        "id": "vscBuBSw7mJj"
      },
      "execution_count": 29,
      "outputs": []
    },
    {
      "cell_type": "markdown",
      "source": [
        "### Functions"
      ],
      "metadata": {
        "id": "Odd-bHEi_WZq"
      }
    },
    {
      "cell_type": "code",
      "source": [
        "\n",
        "tools = [\n",
        "    {\n",
        "        \"type\": \"function\",\n",
        "        \"name\": \"get_current_weather\",\n",
        "        \"description\": \"Get the current weather in a given location\",\n",
        "        \"parameters\": {\n",
        "          \"type\": \"object\",\n",
        "          \"properties\": {\n",
        "              \"location\": {\n",
        "                  \"type\": \"string\",\n",
        "                  \"description\": \"The city and state, e.g. San Francisco, CA\",\n",
        "              },\n",
        "              \"unit\": {\"type\": \"string\", \"enum\": [\"celsius\", \"fahrenheit\"]},\n",
        "          },\n",
        "          \"required\": [\"location\", \"unit\"],\n",
        "        }\n",
        "    }\n",
        "]\n",
        "\n",
        "response = client.responses.create(\n",
        "    model = 'gpt-4o-mini',\n",
        "    tools =tools,\n",
        "    input = \"What is the weather like in boston today?\",\n",
        "    tool_choice = 'auto',\n",
        "    timeout = 20\n",
        ")\n",
        "\n",
        "print(response)"
      ],
      "metadata": {
        "id": "U0o7VCVP_XiU",
        "colab": {
          "base_uri": "https://localhost:8080/"
        },
        "outputId": "49296ce2-2e9f-4332-c8bf-9408b161fe60"
      },
      "execution_count": 38,
      "outputs": [
        {
          "output_type": "stream",
          "name": "stdout",
          "text": [
            "Response(id='resp_689c28cc1ff08196a42be107b7c53be2000d8d60b6885b09', created_at=1755064524.0, error=None, incomplete_details=None, instructions=None, metadata={}, model='gpt-4o-mini-2024-07-18', object='response', output=[ResponseFunctionToolCall(arguments='{\"location\":\"Boston, MA\",\"unit\":\"celsius\"}', call_id='call_f8GJboVLeFzthghdaFY8JL5R', name='get_current_weather', type='function_call', id='fc_689c28ccad788196899d917e969fdd9b000d8d60b6885b09', status='completed')], parallel_tool_calls=True, temperature=1.0, tool_choice='auto', tools=[FunctionTool(name='get_current_weather', parameters={'type': 'object', 'properties': {'location': {'type': 'string', 'description': 'The city and state, e.g. San Francisco, CA'}, 'unit': {'type': 'string', 'enum': ['celsius', 'fahrenheit']}}, 'required': ['location', 'unit'], 'additionalProperties': False}, strict=True, type='function', description='Get the current weather in a given location')], top_p=1.0, background=False, max_output_tokens=None, max_tool_calls=None, previous_response_id=None, prompt=None, prompt_cache_key=None, reasoning=Reasoning(effort=None, generate_summary=None, summary=None), safety_identifier=None, service_tier='default', status='completed', text=ResponseTextConfig(format=ResponseFormatText(type='text'), verbosity='medium'), top_logprobs=0, truncation='disabled', usage=ResponseUsage(input_tokens=76, input_tokens_details=InputTokensDetails(cached_tokens=0), output_tokens=23, output_tokens_details=OutputTokensDetails(reasoning_tokens=0), total_tokens=99), user=None, store=True)\n"
          ]
        }
      ]
    },
    {
      "cell_type": "code",
      "source": [
        "response\n"
      ],
      "metadata": {
        "colab": {
          "base_uri": "https://localhost:8080/"
        },
        "id": "8z_nmVJu-mMl",
        "outputId": "98944192-3a90-48cc-b7fe-b920d68278bb"
      },
      "execution_count": 39,
      "outputs": [
        {
          "output_type": "execute_result",
          "data": {
            "text/plain": [
              "Response(id='resp_689c28cc1ff08196a42be107b7c53be2000d8d60b6885b09', created_at=1755064524.0, error=None, incomplete_details=None, instructions=None, metadata={}, model='gpt-4o-mini-2024-07-18', object='response', output=[ResponseFunctionToolCall(arguments='{\"location\":\"Boston, MA\",\"unit\":\"celsius\"}', call_id='call_f8GJboVLeFzthghdaFY8JL5R', name='get_current_weather', type='function_call', id='fc_689c28ccad788196899d917e969fdd9b000d8d60b6885b09', status='completed')], parallel_tool_calls=True, temperature=1.0, tool_choice='auto', tools=[FunctionTool(name='get_current_weather', parameters={'type': 'object', 'properties': {'location': {'type': 'string', 'description': 'The city and state, e.g. San Francisco, CA'}, 'unit': {'type': 'string', 'enum': ['celsius', 'fahrenheit']}}, 'required': ['location', 'unit'], 'additionalProperties': False}, strict=True, type='function', description='Get the current weather in a given location')], top_p=1.0, background=False, max_output_tokens=None, max_tool_calls=None, previous_response_id=None, prompt=None, prompt_cache_key=None, reasoning=Reasoning(effort=None, generate_summary=None, summary=None), safety_identifier=None, service_tier='default', status='completed', text=ResponseTextConfig(format=ResponseFormatText(type='text'), verbosity='medium'), top_logprobs=0, truncation='disabled', usage=ResponseUsage(input_tokens=76, input_tokens_details=InputTokensDetails(cached_tokens=0), output_tokens=23, output_tokens_details=OutputTokensDetails(reasoning_tokens=0), total_tokens=99), user=None, store=True)"
            ]
          },
          "metadata": {},
          "execution_count": 39
        }
      ]
    },
    {
      "cell_type": "code",
      "source": [
        "# 4️⃣ Extract tool call arguments\n",
        "tool_calls = response.output[0].content[0].get(\"tool_calls\", [])\n",
        "if tool_calls:\n",
        "    tool_name = tool_calls[0][\"function\"][\"name\"]\n",
        "    tool_args = json.loads(tool_calls[0][\"function\"][\"arguments\"])\n",
        "\n",
        "    # Run our weather function\n",
        "    if tool_name == \"get_weather\":\n",
        "        tool_result = get_weather(**tool_args)\n",
        "\n",
        "        # 5️⃣ Second model call — use weather info for inference\n",
        "        summary = f\"The weather in {tool_result['location']} is {tool_result['temperature']} and {tool_result['description']}.\"\n",
        "\n",
        "        followup = client.responses.create(\n",
        "            model=\"gpt-4o-mini\",\n",
        "            input=f\"Suggest an outfit for this weather: {summary}\"\n",
        "        )\n",
        "\n",
        "        print(\"Tool Result:\", tool_result)\n",
        "        print(\"Follow-up Answer:\", followup.output[0].content[0].text)"
      ],
      "metadata": {
        "colab": {
          "base_uri": "https://localhost:8080/",
          "height": 364
        },
        "id": "rnytnMwAAv8J",
        "outputId": "cb96c2c0-824f-416a-97ab-9dc094664c16"
      },
      "execution_count": 43,
      "outputs": [
        {
          "output_type": "error",
          "ename": "AttributeError",
          "evalue": "'ResponseFunctionToolCall' object has no attribute 'content'",
          "traceback": [
            "\u001b[0;31m---------------------------------------------------------------------------\u001b[0m",
            "\u001b[0;31mAttributeError\u001b[0m                            Traceback (most recent call last)",
            "\u001b[0;32m/tmp/ipython-input-1121920687.py\u001b[0m in \u001b[0;36m<cell line: 0>\u001b[0;34m()\u001b[0m\n\u001b[1;32m      1\u001b[0m \u001b[0;31m# 4️⃣ Extract tool call arguments\u001b[0m\u001b[0;34m\u001b[0m\u001b[0;34m\u001b[0m\u001b[0m\n\u001b[0;32m----> 2\u001b[0;31m \u001b[0mtool_calls\u001b[0m \u001b[0;34m=\u001b[0m \u001b[0mresponse\u001b[0m\u001b[0;34m.\u001b[0m\u001b[0moutput\u001b[0m\u001b[0;34m[\u001b[0m\u001b[0;36m0\u001b[0m\u001b[0;34m]\u001b[0m\u001b[0;34m.\u001b[0m\u001b[0mcontent\u001b[0m\u001b[0;34m[\u001b[0m\u001b[0;36m0\u001b[0m\u001b[0;34m]\u001b[0m\u001b[0;34m.\u001b[0m\u001b[0mget\u001b[0m\u001b[0;34m(\u001b[0m\u001b[0;34m\"tool_calls\"\u001b[0m\u001b[0;34m,\u001b[0m \u001b[0;34m[\u001b[0m\u001b[0;34m]\u001b[0m\u001b[0;34m)\u001b[0m\u001b[0;34m\u001b[0m\u001b[0;34m\u001b[0m\u001b[0m\n\u001b[0m\u001b[1;32m      3\u001b[0m \u001b[0;32mif\u001b[0m \u001b[0mtool_calls\u001b[0m\u001b[0;34m:\u001b[0m\u001b[0;34m\u001b[0m\u001b[0;34m\u001b[0m\u001b[0m\n\u001b[1;32m      4\u001b[0m     \u001b[0mtool_name\u001b[0m \u001b[0;34m=\u001b[0m \u001b[0mtool_calls\u001b[0m\u001b[0;34m[\u001b[0m\u001b[0;36m0\u001b[0m\u001b[0;34m]\u001b[0m\u001b[0;34m[\u001b[0m\u001b[0;34m\"function\"\u001b[0m\u001b[0;34m]\u001b[0m\u001b[0;34m[\u001b[0m\u001b[0;34m\"name\"\u001b[0m\u001b[0;34m]\u001b[0m\u001b[0;34m\u001b[0m\u001b[0;34m\u001b[0m\u001b[0m\n\u001b[1;32m      5\u001b[0m     \u001b[0mtool_args\u001b[0m \u001b[0;34m=\u001b[0m \u001b[0mjson\u001b[0m\u001b[0;34m.\u001b[0m\u001b[0mloads\u001b[0m\u001b[0;34m(\u001b[0m\u001b[0mtool_calls\u001b[0m\u001b[0;34m[\u001b[0m\u001b[0;36m0\u001b[0m\u001b[0;34m]\u001b[0m\u001b[0;34m[\u001b[0m\u001b[0;34m\"function\"\u001b[0m\u001b[0;34m]\u001b[0m\u001b[0;34m[\u001b[0m\u001b[0;34m\"arguments\"\u001b[0m\u001b[0;34m]\u001b[0m\u001b[0;34m)\u001b[0m\u001b[0;34m\u001b[0m\u001b[0;34m\u001b[0m\u001b[0m\n",
            "\u001b[0;32m/usr/local/lib/python3.11/dist-packages/pydantic/main.py\u001b[0m in \u001b[0;36m__getattr__\u001b[0;34m(self, item)\u001b[0m\n\u001b[1;32m    989\u001b[0m                     \u001b[0;32melse\u001b[0m\u001b[0;34m:\u001b[0m\u001b[0;34m\u001b[0m\u001b[0;34m\u001b[0m\u001b[0m\n\u001b[1;32m    990\u001b[0m                         \u001b[0;31m# this is the current error\u001b[0m\u001b[0;34m\u001b[0m\u001b[0;34m\u001b[0m\u001b[0m\n\u001b[0;32m--> 991\u001b[0;31m                         \u001b[0;32mraise\u001b[0m \u001b[0mAttributeError\u001b[0m\u001b[0;34m(\u001b[0m\u001b[0;34mf'{type(self).__name__!r} object has no attribute {item!r}'\u001b[0m\u001b[0;34m)\u001b[0m\u001b[0;34m\u001b[0m\u001b[0;34m\u001b[0m\u001b[0m\n\u001b[0m\u001b[1;32m    992\u001b[0m \u001b[0;34m\u001b[0m\u001b[0m\n\u001b[1;32m    993\u001b[0m         \u001b[0;32mdef\u001b[0m \u001b[0m__setattr__\u001b[0m\u001b[0;34m(\u001b[0m\u001b[0mself\u001b[0m\u001b[0;34m,\u001b[0m \u001b[0mname\u001b[0m\u001b[0;34m:\u001b[0m \u001b[0mstr\u001b[0m\u001b[0;34m,\u001b[0m \u001b[0mvalue\u001b[0m\u001b[0;34m:\u001b[0m \u001b[0mAny\u001b[0m\u001b[0;34m)\u001b[0m \u001b[0;34m->\u001b[0m \u001b[0;32mNone\u001b[0m\u001b[0;34m:\u001b[0m\u001b[0;34m\u001b[0m\u001b[0;34m\u001b[0m\u001b[0m\n",
            "\u001b[0;31mAttributeError\u001b[0m: 'ResponseFunctionToolCall' object has no attribute 'content'"
          ]
        }
      ]
    },
    {
      "cell_type": "code",
      "source": [],
      "metadata": {
        "id": "laYarpkTCBlK"
      },
      "execution_count": null,
      "outputs": []
    }
  ]
}