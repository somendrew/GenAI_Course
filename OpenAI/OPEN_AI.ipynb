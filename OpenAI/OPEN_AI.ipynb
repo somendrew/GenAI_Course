{
  "nbformat": 4,
  "nbformat_minor": 0,
  "metadata": {
    "colab": {
      "provenance": []
    },
    "kernelspec": {
      "name": "python3",
      "display_name": "Python 3"
    },
    "language_info": {
      "name": "python"
    }
  },
  "cells": [
    {
      "cell_type": "markdown",
      "source": [
        "# TEXT GENERATION"
      ],
      "metadata": {
        "id": "uUiv-dLXkSn_"
      }
    },
    {
      "cell_type": "code",
      "source": [
        "#API key setup\n",
        "import os\n",
        "from google.colab import userdata\n",
        "\n",
        "os.environ['OPENAI_API_KEY'] = userdata.get('api_key')"
      ],
      "metadata": {
        "id": "yXpCOJ5Rxdw5"
      },
      "execution_count": null,
      "outputs": []
    },
    {
      "cell_type": "markdown",
      "source": [
        "## Responses\n"
      ],
      "metadata": {
        "id": "aAjR7SD-l-t6"
      }
    },
    {
      "cell_type": "markdown",
      "source": [
        "## Text Input\n",
        "\n"
      ],
      "metadata": {
        "id": "zbPUIzJAyKG8"
      }
    },
    {
      "cell_type": "code",
      "execution_count": null,
      "metadata": {
        "id": "5NW84CurkKja"
      },
      "outputs": [],
      "source": [
        "from openai import OpenAI\n",
        "client = OpenAI()\n",
        "\n",
        "response = client.responses.create(\n",
        "    model = 'gpt-4.1',\n",
        "    input = 'tell me a short bedtime story abput unicorn'\n",
        ")\n",
        "\n",
        "print(response)"
      ]
    },
    {
      "cell_type": "markdown",
      "source": [
        "## Image Input / Input File"
      ],
      "metadata": {
        "id": "TqtKTN2nyM8b"
      }
    },
    {
      "cell_type": "code",
      "source": [
        "from openai import OpenAI\n",
        "\n",
        "client = OpenAI()\n",
        "\n",
        "response = client.responses.create(\n",
        "    model=\"gpt-4.1\",\n",
        "    input = [\n",
        "        {\n",
        "            'role' : 'user',\n",
        "            'content' : [\n",
        "                {\n",
        "                    \"type\": \"input_text\",\n",
        "                    \"text\" : \"what is in this image?\",\n",
        "                }\n",
        "                {\n",
        "                    \"type\":\"input_image\",\n",
        "                    \"image_url\":\"https://upload.wikimedia.org/wikipedia/commons/thumb/d/dd/Gfp-wisconsin-madison-the-nature-boardwalk.jpg/2560px-Gfp-wisconsin-madison-the-nature-boardwalk.jpg\"\n",
        "                }\n",
        "            ]\n",
        "        }\n",
        "    ]\n",
        ")\n",
        "\n",
        "print(response)"
      ],
      "metadata": {
        "id": "iHeTO011mi_u"
      },
      "execution_count": null,
      "outputs": []
    },
    {
      "cell_type": "markdown",
      "source": [
        "###  Web Search"
      ],
      "metadata": {
        "id": "jv-QdCYz4I0c"
      }
    },
    {
      "cell_type": "code",
      "source": [
        "from openai import OpenAI\n",
        "\n",
        "client = OpenAI()\n",
        "\n",
        "response = client.responses.create(\n",
        "    model = 'gpt-4.1',\n",
        "    tools =[{\"type\":\"web_search_preview\"}],\n",
        "    input = \"what is the positive news from today?\"\n",
        ")\n",
        "\n",
        "print(response)"
      ],
      "metadata": {
        "id": "q6RoEnpE4IA6"
      },
      "execution_count": null,
      "outputs": []
    },
    {
      "cell_type": "markdown",
      "source": [
        "### File Search"
      ],
      "metadata": {
        "id": "y9d2YmQ57MUY"
      }
    },
    {
      "cell_type": "code",
      "source": [
        "from openai import OpenAI\n",
        "\n",
        "client = OpenAI()\n",
        "response = client.responses.create(\n",
        "    model = 'gpt-4.1',\n",
        "    tools = [{\n",
        "        'type':'file_search',\n",
        "        'vector_store_ids': [\"vs_1234567890\"],\n",
        "        'max_num_results': 20,\n",
        "    }],\n",
        "    input = \"What are the attributes of an ancient brown dragon?\"\n",
        "\n",
        ")\n",
        "\n",
        "print(response)"
      ],
      "metadata": {
        "id": "vscBuBSw7mJj"
      },
      "execution_count": null,
      "outputs": []
    },
    {
      "cell_type": "markdown",
      "source": [
        "### Functions"
      ],
      "metadata": {
        "id": "Odd-bHEi_WZq"
      }
    },
    {
      "cell_type": "code",
      "source": [
        "from openai import OpenAI\n",
        "\n",
        "client = OpenAI()\n",
        "\n",
        "tools = [\n",
        "    {\n",
        "        \"type\": \"function\",\n",
        "        \"name\": \"get_current_weather\",\n",
        "        \"description\": \"Get the current weather in a given location\",\n",
        "        \"parameters\": {\n",
        "          \"type\": \"object\",\n",
        "          \"properties\": {\n",
        "              \"location\": {\n",
        "                  \"type\": \"string\",\n",
        "                  \"description\": \"The city and state, e.g. San Francisco, CA\",\n",
        "              },\n",
        "              \"unit\": {\"type\": \"string\", \"enum\": [\"celsius\", \"fahrenheit\"]},\n",
        "          },\n",
        "          \"required\": [\"location\", \"unit\"],\n",
        "        }\n",
        "    }\n",
        "]\n",
        "\n",
        "response = client.responses.create(\n",
        "    model = 'gpt-4.1',\n",
        "    tools =tools,\n",
        "    input = \"What is the weather like in boston today?\",\n",
        "    tool_choice = 'auto'\n",
        ")\n",
        "\n",
        "print(response)"
      ],
      "metadata": {
        "id": "U0o7VCVP_XiU"
      },
      "execution_count": null,
      "outputs": []
    }
  ]
}